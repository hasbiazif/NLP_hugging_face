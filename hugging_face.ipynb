{
  "nbformat": 4,
  "nbformat_minor": 0,
  "metadata": {
    "colab": {
      "provenance": [],
      "gpuType": "T4",
      "authorship_tag": "ABX9TyPFnV+dk3gx9dETJM3ZrVHK",
      "include_colab_link": true
    },
    "kernelspec": {
      "name": "python3",
      "display_name": "Python 3"
    },
    "language_info": {
      "name": "python"
    },
    "accelerator": "GPU"
  },
  "cells": [
    {
      "cell_type": "markdown",
      "metadata": {
        "id": "view-in-github",
        "colab_type": "text"
      },
      "source": [
        "<a href=\"https://colab.research.google.com/github/hasbiazif/NLP_hugging_face/blob/main/hugging_face.ipynb\" target=\"_parent\"><img src=\"https://colab.research.google.com/assets/colab-badge.svg\" alt=\"Open In Colab\"/></a>"
      ]
    },
    {
      "cell_type": "markdown",
      "source": [
        "# 1. Setup awal: install dan import"
      ],
      "metadata": {
        "id": "SfsSnMdhNB1u"
      }
    },
    {
      "cell_type": "code",
      "source": [
        "!pip install -q transformers datasets acceleratem"
      ],
      "metadata": {
        "id": "eoeQPAKQHkTU"
      },
      "execution_count": null,
      "outputs": []
    },
    {
      "cell_type": "code",
      "source": [
        "from transformers import pipeline, AutoTokenizer, AutoModelForSequenceClassification, TrainingArguments, Trainer\n",
        "from datasets import load_dataset\n",
        "import numpy as np\n",
        "from sklearn.metrics import accuracy_score, precision_recall_fscore_support"
      ],
      "metadata": {
        "id": "h3J_9GLINHNA"
      },
      "execution_count": null,
      "outputs": []
    },
    {
      "cell_type": "markdown",
      "source": [
        "# 2. Cek GPU"
      ],
      "metadata": {
        "id": "I7pwhg43OIVF"
      }
    },
    {
      "cell_type": "code",
      "source": [
        "import torch\n",
        "print(\"CUDA available:\", torch.cuda.is_available())"
      ],
      "metadata": {
        "id": "t_wZS1QTNoqa"
      },
      "execution_count": null,
      "outputs": []
    },
    {
      "cell_type": "markdown",
      "source": [
        "# 3. Contoh inference cepat (tanpa training)"
      ],
      "metadata": {
        "id": "_4YABkoQONbe"
      }
    },
    {
      "cell_type": "code",
      "source": [
        "classifier = pipeline(\n",
        "    \"sentiment-analysis\",\n",
        "    model=\"distilbert-base-uncased-finetuned-sst-2-english\"\n",
        ")\n",
        "\n",
        "print(classifier(\"I love Hugging Face!\"))\n",
        "print(classifier(\"This is really bad...\"))"
      ],
      "metadata": {
        "id": "Zg_HRakoOKCe"
      },
      "execution_count": null,
      "outputs": []
    },
    {
      "cell_type": "code",
      "source": [
        "# 4. Load dataset kecil untuk fine-tuning\n",
        "# Gunakan dataset kecil agar cepat training\n",
        "# =======================================\n",
        "dataset = load_dataset(\"imdb\")\n",
        "\n",
        "# Ambil subset kecil (contoh 2000 data train, 1000 test)\n",
        "small_train = dataset[\"train\"].select(range(2000))\n",
        "small_test = dataset[\"test\"].select(range(1000))"
      ],
      "metadata": {
        "id": "PrCueSGlOYQ5"
      },
      "execution_count": null,
      "outputs": []
    },
    {
      "cell_type": "code",
      "source": [
        "# 5. Tokenizer dan preprocessing\n",
        "# =======================================\n",
        "model_name = \"distilbert-base-uncased\"\n",
        "tokenizer = AutoTokenizer.from_pretrained(model_name)\n",
        "\n",
        "def tokenize(batch):\n",
        "    return tokenizer(batch[\"text\"], padding=\"max_length\", truncation=True)\n",
        "\n",
        "train_enc = small_train.map(tokenize, batched=True)\n",
        "test_enc = small_test.map(tokenize, batched=True)\n",
        "\n",
        "train_enc = train_enc.remove_columns([\"text\"])\n",
        "test_enc = test_enc.remove_columns([\"text\"])\n",
        "\n",
        "train_enc.set_format(\"torch\")\n",
        "test_enc.set_format(\"torch\")"
      ],
      "metadata": {
        "id": "tyUCNQ4kOebU"
      },
      "execution_count": null,
      "outputs": []
    },
    {
      "cell_type": "code",
      "source": [
        "# 6. Load model dan TrainingArguments\n",
        "# =======================================\n",
        "model = AutoModelForSequenceClassification.from_pretrained(model_name, num_labels=2)\n",
        "\n",
        "training_args = TrainingArguments(\n",
        "    output_dir=\"./results\",\n",
        "    eval_strategy=\"epoch\", # Changed from evaluation_strategy to eval_strategy\n",
        "    save_strategy=\"no\",            # supaya cepat\n",
        "    learning_rate=2e-5,\n",
        "    per_device_train_batch_size=16,\n",
        "    per_device_eval_batch_size=16,\n",
        "    num_train_epochs=1,            # 1 epoch saja biar cepat\n",
        "    weight_decay=0.01,\n",
        "    logging_dir=\"./logs\",\n",
        "    logging_steps=10,\n",
        "    push_to_hub=False\n",
        ")"
      ],
      "metadata": {
        "id": "x3rJ-KC-Oiim"
      },
      "execution_count": null,
      "outputs": []
    },
    {
      "cell_type": "code",
      "source": [
        "# 7. Metric untuk evaluasi\n",
        "# =======================================\n",
        "def compute_metrics(pred):\n",
        "    labels = pred.label_ids\n",
        "    preds = np.argmax(pred.predictions, axis=1)\n",
        "    precision, recall, f1, _ = precision_recall_fscore_support(labels, preds, average=\"binary\")\n",
        "    acc = accuracy_score(labels, preds)\n",
        "    return {\"accuracy\": acc, \"f1\": f1, \"precision\": precision, \"recall\": recall}"
      ],
      "metadata": {
        "id": "OT-CgN3BOyUB"
      },
      "execution_count": null,
      "outputs": []
    },
    {
      "cell_type": "code",
      "source": [
        "# 8. Trainer dan Training\n",
        "# =======================================\n",
        "trainer = Trainer(\n",
        "    model=model,\n",
        "    args=training_args,\n",
        "    train_dataset=train_enc,\n",
        "    eval_dataset=test_enc,\n",
        "    tokenizer=tokenizer,\n",
        "    compute_metrics=compute_metrics,\n",
        ")\n",
        "\n",
        "trainer.train()\n",
        "trainer.evaluate()"
      ],
      "metadata": {
        "id": "zV7mpaMGO01R"
      },
      "execution_count": null,
      "outputs": []
    },
    {
      "cell_type": "code",
      "source": [
        "# 9. Test model hasil training\n",
        "# =======================================\n",
        "text = \"This movie was awesome! I loved it.\"\n",
        "inputs = tokenizer(text, return_tensors=\"pt\", truncation=True, padding=True)\n",
        "# Move inputs to the same device as the model\n",
        "inputs = {key: val.to(model.device) for key, val in inputs.items()}\n",
        "outputs = model(**inputs)\n",
        "pred = torch.argmax(outputs.logits)\n",
        "print(\"Label prediksi:\", \"Positive\" if pred.item() == 1 else \"Negative\")"
      ],
      "metadata": {
        "id": "S2Agh2wrPsIA"
      },
      "execution_count": null,
      "outputs": []
    }
  ]
}